{
 "cells": [
  {
   "cell_type": "code",
   "execution_count": 419,
   "id": "4feb8f38",
   "metadata": {},
   "outputs": [],
   "source": [
    "import numpy as np\n",
    "import pandas as pd\n",
    "import pickle  \n",
    "\n",
    "import matplotlib\n",
    "import matplotlib.pyplot as plt\n",
    "import seaborn as sns\n",
    "%matplotlib inline\n",
    "\n",
    "from sklearn.model_selection import train_test_split, KFold, GridSearchCV\n",
    "\n",
    "from sklearn.linear_model import LinearRegression\n",
    "from sklearn.tree import DecisionTreeRegressor, plot_tree\n",
    "from sklearn.ensemble import RandomForestRegressor, GradientBoostingRegressor\n",
    "from sklearn.preprocessing import StandardScaler, RobustScaler\n",
    "\n",
    "from sklearn.metrics import mean_squared_error as mse, r2_score as r2\n",
    "\n",
    "from IPython.display import Image\n",
    "\n",
    "from datetime import datetime"
   ]
  },
  {
   "cell_type": "code",
   "execution_count": 420,
   "id": "81f17a21",
   "metadata": {},
   "outputs": [],
   "source": [
    "import warnings\n",
    "warnings.filterwarnings('ignore')\n",
    "matplotlib.rcParams.update({'font.size': 14})"
   ]
  },
  {
   "cell_type": "markdown",
   "id": "cf1ba136",
   "metadata": {},
   "source": [
    "### Loading datasests"
   ]
  },
  {
   "cell_type": "code",
   "execution_count": 421,
   "id": "0dc01beb",
   "metadata": {},
   "outputs": [],
   "source": [
    "train_dataset_path = '/Users/macbook/Documents/DataScience/Projects/project_data_from_kaggle/train.csv'\n",
    "test_dataset_path = '/Users/macbook/Documents/DataScience/Projects/project_data_from_kaggle/test.csv'\n",
    "submission_path = '/Users/macbook/Documents/DataScience/Projects/project_data_from_kaggle/sample_submission.csv'"
   ]
  },
  {
   "cell_type": "code",
   "execution_count": 422,
   "id": "48da340a",
   "metadata": {},
   "outputs": [],
   "source": [
    "train_df = pd.read_csv(train_dataset_path, sep = ',')\n",
    "test_df = pd.read_csv(test_dataset_path, sep = ',')"
   ]
  },
  {
   "cell_type": "markdown",
   "id": "3ac008d5",
   "metadata": {},
   "source": [
    "### EDA"
   ]
  },
  {
   "cell_type": "code",
   "execution_count": 423,
   "id": "668edb43",
   "metadata": {},
   "outputs": [
    {
     "name": "stdout",
     "output_type": "stream",
     "text": [
      "<class 'pandas.core.frame.DataFrame'>\n",
      "RangeIndex: 10000 entries, 0 to 9999\n",
      "Data columns (total 20 columns):\n",
      " #   Column         Non-Null Count  Dtype  \n",
      "---  ------         --------------  -----  \n",
      " 0   Id             10000 non-null  int64  \n",
      " 1   DistrictId     10000 non-null  int64  \n",
      " 2   Rooms          10000 non-null  float64\n",
      " 3   Square         10000 non-null  float64\n",
      " 4   LifeSquare     7887 non-null   float64\n",
      " 5   KitchenSquare  10000 non-null  float64\n",
      " 6   Floor          10000 non-null  int64  \n",
      " 7   HouseFloor     10000 non-null  float64\n",
      " 8   HouseYear      10000 non-null  int64  \n",
      " 9   Ecology_1      10000 non-null  float64\n",
      " 10  Ecology_2      10000 non-null  object \n",
      " 11  Ecology_3      10000 non-null  object \n",
      " 12  Social_1       10000 non-null  int64  \n",
      " 13  Social_2       10000 non-null  int64  \n",
      " 14  Social_3       10000 non-null  int64  \n",
      " 15  Healthcare_1   5202 non-null   float64\n",
      " 16  Helthcare_2    10000 non-null  int64  \n",
      " 17  Shops_1        10000 non-null  int64  \n",
      " 18  Shops_2        10000 non-null  object \n",
      " 19  Price          10000 non-null  float64\n",
      "dtypes: float64(8), int64(9), object(3)\n",
      "memory usage: 1.5+ MB\n"
     ]
    }
   ],
   "source": [
    "train_df.info()"
   ]
  },
  {
   "cell_type": "code",
   "execution_count": 424,
   "id": "200e539a",
   "metadata": {},
   "outputs": [
    {
     "data": {
      "text/plain": [
       "Id                  0\n",
       "DistrictId          0\n",
       "Rooms               0\n",
       "Square              0\n",
       "LifeSquare       2113\n",
       "KitchenSquare       0\n",
       "Floor               0\n",
       "HouseFloor          0\n",
       "HouseYear           0\n",
       "Ecology_1           0\n",
       "Ecology_2           0\n",
       "Ecology_3           0\n",
       "Social_1            0\n",
       "Social_2            0\n",
       "Social_3            0\n",
       "Healthcare_1     4798\n",
       "Helthcare_2         0\n",
       "Shops_1             0\n",
       "Shops_2             0\n",
       "Price               0\n",
       "dtype: int64"
      ]
     },
     "execution_count": 424,
     "metadata": {},
     "output_type": "execute_result"
    }
   ],
   "source": [
    "train_df.isna().sum()"
   ]
  },
  {
   "cell_type": "code",
   "execution_count": 425,
   "id": "5d845501",
   "metadata": {},
   "outputs": [
    {
     "data": {
      "text/html": [
       "<div>\n",
       "<style scoped>\n",
       "    .dataframe tbody tr th:only-of-type {\n",
       "        vertical-align: middle;\n",
       "    }\n",
       "\n",
       "    .dataframe tbody tr th {\n",
       "        vertical-align: top;\n",
       "    }\n",
       "\n",
       "    .dataframe thead th {\n",
       "        text-align: right;\n",
       "    }\n",
       "</style>\n",
       "<table border=\"1\" class=\"dataframe\">\n",
       "  <thead>\n",
       "    <tr style=\"text-align: right;\">\n",
       "      <th></th>\n",
       "      <th>Id</th>\n",
       "      <th>DistrictId</th>\n",
       "      <th>Rooms</th>\n",
       "      <th>Square</th>\n",
       "      <th>LifeSquare</th>\n",
       "      <th>KitchenSquare</th>\n",
       "      <th>Floor</th>\n",
       "      <th>HouseFloor</th>\n",
       "      <th>HouseYear</th>\n",
       "      <th>Ecology_1</th>\n",
       "      <th>Social_1</th>\n",
       "      <th>Social_2</th>\n",
       "      <th>Social_3</th>\n",
       "      <th>Healthcare_1</th>\n",
       "      <th>Helthcare_2</th>\n",
       "      <th>Shops_1</th>\n",
       "      <th>Price</th>\n",
       "    </tr>\n",
       "  </thead>\n",
       "  <tbody>\n",
       "    <tr>\n",
       "      <th>count</th>\n",
       "      <td>10000.00000</td>\n",
       "      <td>10000.000000</td>\n",
       "      <td>10000.000000</td>\n",
       "      <td>10000.000000</td>\n",
       "      <td>7887.000000</td>\n",
       "      <td>10000.000000</td>\n",
       "      <td>10000.000000</td>\n",
       "      <td>10000.000000</td>\n",
       "      <td>1.000000e+04</td>\n",
       "      <td>10000.000000</td>\n",
       "      <td>10000.000000</td>\n",
       "      <td>10000.000000</td>\n",
       "      <td>10000.000000</td>\n",
       "      <td>5202.000000</td>\n",
       "      <td>10000.000000</td>\n",
       "      <td>10000.000000</td>\n",
       "      <td>10000.000000</td>\n",
       "    </tr>\n",
       "    <tr>\n",
       "      <th>mean</th>\n",
       "      <td>8383.40770</td>\n",
       "      <td>50.400800</td>\n",
       "      <td>1.890500</td>\n",
       "      <td>56.315775</td>\n",
       "      <td>37.199645</td>\n",
       "      <td>6.273300</td>\n",
       "      <td>8.526700</td>\n",
       "      <td>12.609400</td>\n",
       "      <td>3.990166e+03</td>\n",
       "      <td>0.118858</td>\n",
       "      <td>24.687000</td>\n",
       "      <td>5352.157400</td>\n",
       "      <td>8.039200</td>\n",
       "      <td>1142.904460</td>\n",
       "      <td>1.319500</td>\n",
       "      <td>4.231300</td>\n",
       "      <td>214138.857399</td>\n",
       "    </tr>\n",
       "    <tr>\n",
       "      <th>std</th>\n",
       "      <td>4859.01902</td>\n",
       "      <td>43.587592</td>\n",
       "      <td>0.839512</td>\n",
       "      <td>21.058732</td>\n",
       "      <td>86.241209</td>\n",
       "      <td>28.560917</td>\n",
       "      <td>5.241148</td>\n",
       "      <td>6.775974</td>\n",
       "      <td>2.005003e+05</td>\n",
       "      <td>0.119025</td>\n",
       "      <td>17.532614</td>\n",
       "      <td>4006.799803</td>\n",
       "      <td>23.831875</td>\n",
       "      <td>1021.517264</td>\n",
       "      <td>1.493601</td>\n",
       "      <td>4.806341</td>\n",
       "      <td>92872.293865</td>\n",
       "    </tr>\n",
       "    <tr>\n",
       "      <th>min</th>\n",
       "      <td>0.00000</td>\n",
       "      <td>0.000000</td>\n",
       "      <td>0.000000</td>\n",
       "      <td>1.136859</td>\n",
       "      <td>0.370619</td>\n",
       "      <td>0.000000</td>\n",
       "      <td>1.000000</td>\n",
       "      <td>0.000000</td>\n",
       "      <td>1.910000e+03</td>\n",
       "      <td>0.000000</td>\n",
       "      <td>0.000000</td>\n",
       "      <td>168.000000</td>\n",
       "      <td>0.000000</td>\n",
       "      <td>0.000000</td>\n",
       "      <td>0.000000</td>\n",
       "      <td>0.000000</td>\n",
       "      <td>59174.778028</td>\n",
       "    </tr>\n",
       "    <tr>\n",
       "      <th>25%</th>\n",
       "      <td>4169.50000</td>\n",
       "      <td>20.000000</td>\n",
       "      <td>1.000000</td>\n",
       "      <td>41.774881</td>\n",
       "      <td>22.769832</td>\n",
       "      <td>1.000000</td>\n",
       "      <td>4.000000</td>\n",
       "      <td>9.000000</td>\n",
       "      <td>1.974000e+03</td>\n",
       "      <td>0.017647</td>\n",
       "      <td>6.000000</td>\n",
       "      <td>1564.000000</td>\n",
       "      <td>0.000000</td>\n",
       "      <td>350.000000</td>\n",
       "      <td>0.000000</td>\n",
       "      <td>1.000000</td>\n",
       "      <td>153872.633942</td>\n",
       "    </tr>\n",
       "    <tr>\n",
       "      <th>50%</th>\n",
       "      <td>8394.50000</td>\n",
       "      <td>36.000000</td>\n",
       "      <td>2.000000</td>\n",
       "      <td>52.513310</td>\n",
       "      <td>32.781260</td>\n",
       "      <td>6.000000</td>\n",
       "      <td>7.000000</td>\n",
       "      <td>13.000000</td>\n",
       "      <td>1.977000e+03</td>\n",
       "      <td>0.075424</td>\n",
       "      <td>25.000000</td>\n",
       "      <td>5285.000000</td>\n",
       "      <td>2.000000</td>\n",
       "      <td>900.000000</td>\n",
       "      <td>1.000000</td>\n",
       "      <td>3.000000</td>\n",
       "      <td>192269.644879</td>\n",
       "    </tr>\n",
       "    <tr>\n",
       "      <th>75%</th>\n",
       "      <td>12592.50000</td>\n",
       "      <td>75.000000</td>\n",
       "      <td>2.000000</td>\n",
       "      <td>65.900625</td>\n",
       "      <td>45.128803</td>\n",
       "      <td>9.000000</td>\n",
       "      <td>12.000000</td>\n",
       "      <td>17.000000</td>\n",
       "      <td>2.001000e+03</td>\n",
       "      <td>0.195781</td>\n",
       "      <td>36.000000</td>\n",
       "      <td>7227.000000</td>\n",
       "      <td>5.000000</td>\n",
       "      <td>1548.000000</td>\n",
       "      <td>2.000000</td>\n",
       "      <td>6.000000</td>\n",
       "      <td>249135.462171</td>\n",
       "    </tr>\n",
       "    <tr>\n",
       "      <th>max</th>\n",
       "      <td>16798.00000</td>\n",
       "      <td>209.000000</td>\n",
       "      <td>19.000000</td>\n",
       "      <td>641.065193</td>\n",
       "      <td>7480.592129</td>\n",
       "      <td>2014.000000</td>\n",
       "      <td>42.000000</td>\n",
       "      <td>117.000000</td>\n",
       "      <td>2.005201e+07</td>\n",
       "      <td>0.521867</td>\n",
       "      <td>74.000000</td>\n",
       "      <td>19083.000000</td>\n",
       "      <td>141.000000</td>\n",
       "      <td>4849.000000</td>\n",
       "      <td>6.000000</td>\n",
       "      <td>23.000000</td>\n",
       "      <td>633233.466570</td>\n",
       "    </tr>\n",
       "  </tbody>\n",
       "</table>\n",
       "</div>"
      ],
      "text/plain": [
       "                Id    DistrictId         Rooms        Square   LifeSquare  \\\n",
       "count  10000.00000  10000.000000  10000.000000  10000.000000  7887.000000   \n",
       "mean    8383.40770     50.400800      1.890500     56.315775    37.199645   \n",
       "std     4859.01902     43.587592      0.839512     21.058732    86.241209   \n",
       "min        0.00000      0.000000      0.000000      1.136859     0.370619   \n",
       "25%     4169.50000     20.000000      1.000000     41.774881    22.769832   \n",
       "50%     8394.50000     36.000000      2.000000     52.513310    32.781260   \n",
       "75%    12592.50000     75.000000      2.000000     65.900625    45.128803   \n",
       "max    16798.00000    209.000000     19.000000    641.065193  7480.592129   \n",
       "\n",
       "       KitchenSquare         Floor    HouseFloor     HouseYear     Ecology_1  \\\n",
       "count   10000.000000  10000.000000  10000.000000  1.000000e+04  10000.000000   \n",
       "mean        6.273300      8.526700     12.609400  3.990166e+03      0.118858   \n",
       "std        28.560917      5.241148      6.775974  2.005003e+05      0.119025   \n",
       "min         0.000000      1.000000      0.000000  1.910000e+03      0.000000   \n",
       "25%         1.000000      4.000000      9.000000  1.974000e+03      0.017647   \n",
       "50%         6.000000      7.000000     13.000000  1.977000e+03      0.075424   \n",
       "75%         9.000000     12.000000     17.000000  2.001000e+03      0.195781   \n",
       "max      2014.000000     42.000000    117.000000  2.005201e+07      0.521867   \n",
       "\n",
       "           Social_1      Social_2      Social_3  Healthcare_1   Helthcare_2  \\\n",
       "count  10000.000000  10000.000000  10000.000000   5202.000000  10000.000000   \n",
       "mean      24.687000   5352.157400      8.039200   1142.904460      1.319500   \n",
       "std       17.532614   4006.799803     23.831875   1021.517264      1.493601   \n",
       "min        0.000000    168.000000      0.000000      0.000000      0.000000   \n",
       "25%        6.000000   1564.000000      0.000000    350.000000      0.000000   \n",
       "50%       25.000000   5285.000000      2.000000    900.000000      1.000000   \n",
       "75%       36.000000   7227.000000      5.000000   1548.000000      2.000000   \n",
       "max       74.000000  19083.000000    141.000000   4849.000000      6.000000   \n",
       "\n",
       "            Shops_1          Price  \n",
       "count  10000.000000   10000.000000  \n",
       "mean       4.231300  214138.857399  \n",
       "std        4.806341   92872.293865  \n",
       "min        0.000000   59174.778028  \n",
       "25%        1.000000  153872.633942  \n",
       "50%        3.000000  192269.644879  \n",
       "75%        6.000000  249135.462171  \n",
       "max       23.000000  633233.466570  "
      ]
     },
     "execution_count": 425,
     "metadata": {},
     "output_type": "execute_result"
    }
   ],
   "source": [
    "train_df.describe()"
   ]
  },
  {
   "cell_type": "code",
   "execution_count": 426,
   "id": "b0758cdf",
   "metadata": {},
   "outputs": [
    {
     "data": {
      "image/png": "[encoded data removed]",
      "text/plain": [
       "<Figure size 2160x576 with 2 Axes>"
      ]
     },
     "metadata": {
      "needs_background": "light"
     },
     "output_type": "display_data"
    }
   ],
   "source": [
    "plt.figure(figsize = (30, 8))\n",
    "\n",
    "plt.subplot(121)\n",
    "train_df['Price'].hist(density=False, bins=20)\n",
    "plt.ylabel('count')\n",
    "plt.xlabel('Price')\n",
    "\n",
    "plt.subplot(122)\n",
    "sns.kdeplot(train_df['Price'], shade=True, legend=False)\n",
    "plt.xlabel('Price')\n",
    "\n",
    "plt.suptitle('Distribution of price')\n",
    "plt.show()"
   ]
  },
  {
   "cell_type": "code",
   "execution_count": 427,
   "id": "e72b90c2",
   "metadata": {},
   "outputs": [
    {
     "data": {
      "image/png": "[encoded data removed]",
      "text/plain": [
       "<Figure size 1080x720 with 2 Axes>"
      ]
     },
     "metadata": {
      "needs_background": "light"
     },
     "output_type": "display_data"
    }
   ],
   "source": [
    "plt.figure(figsize = (15,10))\n",
    "\n",
    "sns.set(font_scale=1.4)\n",
    "\n",
    "corr_matrix = train_df.corr()\n",
    "corr_matrix = np.round(corr_matrix, 2)\n",
    "corr_matrix[np.abs(corr_matrix) < 0.2] = 0\n",
    "\n",
    "sns.heatmap(corr_matrix, annot=True, linewidths=.5, cmap='coolwarm')\n",
    "\n",
    "plt.title('Correlation matrix')\n",
    "plt.show()"
   ]
  },
  {
   "cell_type": "markdown",
   "id": "492dae54",
   "metadata": {},
   "source": [
    "### Data processing and feature generation"
   ]
  },
  {
   "cell_type": "code",
   "execution_count": 428,
   "id": "e142d225",
   "metadata": {},
   "outputs": [],
   "source": [
    "class DataPipeLine:\n",
    "    \n",
    "    def __init__(self):\n",
    "        self.madians = None \n",
    "        self.healthcare_by_district = None\n",
    "        \n",
    "    def fit(self, df):\n",
    "        self.medians = df.median()\n",
    "        self.healthcare_by_district = df.groupby('DistrictId')['Healthcare_1'].mean()\n",
    "        \n",
    "    def transform(self, df): \n",
    "        \n",
    "        # Fill nan \n",
    "        # LifeSquare\n",
    "        condition = (df['LifeSquare'].isna()) & \\\n",
    "                    (~df['Square'].isna()) & \\\n",
    "                    (~df['KitchenSquare'].isna())\n",
    "        \n",
    "        df.loc[condition, 'LifeSquare'] = df.loc[condition, 'Square'] - df.loc[condition, 'KitchenSquare'] - 3\n",
    "        \n",
    "        # Healthcare_1\n",
    "        df.loc[df['Healthcare_1'].isna(), 'Healthcare_1'] = df['DistrictId'].map(self.healthcare_by_district)\n",
    "        df['Healthcare_1'].fillna(self.medians.Healthcare_1, inplace=True)\n",
    "        \n",
    "        # just in case something goes wrong\n",
    "        df.fillna(self.medians, inplace=True)\n",
    "        \n",
    "        # Outliers \n",
    "        # Rooms\n",
    "        df.loc[(df['Rooms'] == 0) & (df['Square'] < 50), 'Rooms'] = 1\n",
    "        df.loc[(df['Rooms'] == 0) & (df['Square'] > 50) & (df['Square'] < 100), 'Rooms'] = 3\n",
    "        df.loc[(df['Rooms'] == 0) & (df['Square'] > 100), 'Rooms'] = 5\n",
    "        df.loc[df['Rooms'] > 5, 'Rooms'] = self.medians.Rooms\n",
    "        \n",
    "        # LifeSquare, Square, KitchenSquare\n",
    "        df.loc[df['Square'] < 10, 'Square'] = (df.loc[df['Square'] < 10, 'Square']) * 10\n",
    "        df.loc[df['Square'] > 400, 'Square'] = (df.loc[df['Square'] > 400, 'Square'])/10\n",
    "        df.loc[df['LifeSquare'] < 10, 'LifeSquare'] = (df.loc[df['LifeSquare'] < 10, 'LifeSquare']) * 10\n",
    "        df.loc[df['LifeSquare'] > 250, 'LifeSquare'] = (df.loc[df['LifeSquare'] > 250, 'LifeSquare'])/10\n",
    "        df.loc[df['KitchenSquare'] < 5, 'KitchenSquare'] = 5   \n",
    "        df.loc[df['KitchenSquare'] > 50, 'KitchenSquare'] = self.medians.KitchenSquare\n",
    "        df.loc[df['KitchenSquare'] > df['Square'], 'KitchenSquare'] = self.medians.KitchenSquare\n",
    "        \n",
    "        condition_ls = (df['LifeSquare'] > df['Square'])\n",
    "        df.loc[condition_ls, 'LifeSquare'] = (df.loc[condition_ls, 'Square']) - (df.loc[condition_ls, 'KitchenSquare']) - 3\n",
    "        df.loc[(df['LifeSquare'] < 0), 'LifeSquare'] = self.medians.KitchenSquare\n",
    "        \n",
    "        # HouseFloor, Floor\n",
    "        df.loc[df['HouseFloor'] == 0, 'HouseFloor'] = (df.loc[df['HouseFloor'] == 0, 'Floor']) * 2\n",
    "        df.loc[df['Floor'] > df['HouseFloor'], 'Floor'] = df.loc[df['Floor'] > df['HouseFloor'], 'HouseFloor']\n",
    "        \n",
    "        # HouseYear\n",
    "        df.loc[df['HouseYear'] > datetime.now().year, 'HouseYear'] = datetime.now().year\n",
    "        \n",
    "        return df\n",
    "        \n",
    "        "
   ]
  },
  {
   "cell_type": "code",
   "execution_count": 429,
   "id": "a8a516f1",
   "metadata": {},
   "outputs": [],
   "source": [
    "class FeatureGeneration:\n",
    "    \n",
    "    def __init__(self):\n",
    "        self.price_per_square = None\n",
    "        \n",
    "    def fit(self, df):\n",
    "        self.price_per_square = df.groupby(['DistrictId'])['Price'].agg('median')/ \\\n",
    "                                df.groupby(['DistrictId'])['Square'].agg('median')\n",
    "        self.price_per_square_median = self.price_per_square.median()\n",
    "        \n",
    "    def transform(self, df): \n",
    "        \n",
    "        # Median price for square meter in each district\n",
    "        df['DistrictPricePerSquare'] = df['DistrictId'].map(self.price_per_square)\n",
    "        df['DistrictPricePerSquare'].fillna(self.price_per_square_median, inplace=True)\n",
    "        \n",
    "        # Age binary categories \n",
    "        df['age_binary_cat'] = 0\n",
    "        df.loc[df['HouseYear'] <= 2000, 'age_binary_cat'] = 1 \n",
    "        \n",
    "        # First and last floors categories\n",
    "        df['floor_cat'] = 0\n",
    "        df.loc[df['Floor'] == 1, 'floor_cat'] = 1\n",
    "        df.loc[df['Floor'] == df['HouseFloor'], 'floor_cat'] = 2\n",
    "        \n",
    "        # Categorical features  \n",
    "        df.replace({'Ecology_2': {'A': 0, 'B': 1}}, inplace=True)\n",
    "        df.replace({'Ecology_3': {'A': 0, 'B': 1}}, inplace=True)\n",
    "        df.replace({'Shops_2': {'A': 0, 'B': 1}}, inplace=True)\n",
    "        \n",
    "        df['DistrictId'] = df['DistrictId'].astype(str)\n",
    "        df.drop(['Id'], axis=1, inplace=True)\n",
    "        \n",
    "        return df"
   ]
  },
  {
   "cell_type": "code",
   "execution_count": 430,
   "id": "8c33b392",
   "metadata": {},
   "outputs": [],
   "source": [
    "preprocessor = DataPipeLine()\n",
    "preprocessor.fit(train_df)\n",
    "train_df = preprocessor.transform(train_df)\n",
    "test_df = preprocessor.transform(test_df)"
   ]
  },
  {
   "cell_type": "code",
   "execution_count": 431,
   "id": "0d5a7845",
   "metadata": {},
   "outputs": [],
   "source": [
    "new_features = FeatureGeneration()\n",
    "new_features.fit(train_df)\n",
    "train_df = new_features.transform(train_df)\n",
    "test_df = new_features.transform(test_df)"
   ]
  },
  {
   "cell_type": "markdown",
   "id": "c4be14a6",
   "metadata": {},
   "source": [
    "### Scaling"
   ]
  },
  {
   "cell_type": "code",
   "execution_count": 432,
   "id": "43de4363",
   "metadata": {},
   "outputs": [
    {
     "data": {
      "text/plain": [
       "Index(['DistrictId', 'Rooms', 'Square', 'LifeSquare', 'KitchenSquare', 'Floor',\n",
       "       'HouseFloor', 'HouseYear', 'Ecology_1', 'Ecology_2', 'Ecology_3',\n",
       "       'Social_1', 'Social_2', 'Social_3', 'Healthcare_1', 'Helthcare_2',\n",
       "       'Shops_1', 'Shops_2', 'Price', 'DistrictPricePerSquare',\n",
       "       'age_binary_cat', 'floor_cat'],\n",
       "      dtype='object')"
      ]
     },
     "execution_count": 432,
     "metadata": {},
     "output_type": "execute_result"
    }
   ],
   "source": [
    "train_df.columns"
   ]
  },
  {
   "cell_type": "code",
   "execution_count": 433,
   "id": "f4f5628a",
   "metadata": {},
   "outputs": [
    {
     "name": "stdout",
     "output_type": "stream",
     "text": [
      "<class 'pandas.core.frame.DataFrame'>\n",
      "RangeIndex: 10000 entries, 0 to 9999\n",
      "Data columns (total 22 columns):\n",
      " #   Column                  Non-Null Count  Dtype  \n",
      "---  ------                  --------------  -----  \n",
      " 0   DistrictId              10000 non-null  object \n",
      " 1   Rooms                   10000 non-null  float64\n",
      " 2   Square                  10000 non-null  float64\n",
      " 3   LifeSquare              10000 non-null  float64\n",
      " 4   KitchenSquare           10000 non-null  float64\n",
      " 5   Floor                   10000 non-null  float64\n",
      " 6   HouseFloor              10000 non-null  float64\n",
      " 7   HouseYear               10000 non-null  int64  \n",
      " 8   Ecology_1               10000 non-null  float64\n",
      " 9   Ecology_2               10000 non-null  int64  \n",
      " 10  Ecology_3               10000 non-null  int64  \n",
      " 11  Social_1                10000 non-null  int64  \n",
      " 12  Social_2                10000 non-null  int64  \n",
      " 13  Social_3                10000 non-null  int64  \n",
      " 14  Healthcare_1            10000 non-null  float64\n",
      " 15  Helthcare_2             10000 non-null  int64  \n",
      " 16  Shops_1                 10000 non-null  int64  \n",
      " 17  Shops_2                 10000 non-null  int64  \n",
      " 18  Price                   10000 non-null  float64\n",
      " 19  DistrictPricePerSquare  10000 non-null  float64\n",
      " 20  age_binary_cat          10000 non-null  int64  \n",
      " 21  floor_cat               10000 non-null  int64  \n",
      "dtypes: float64(10), int64(11), object(1)\n",
      "memory usage: 1.7+ MB\n"
     ]
    }
   ],
   "source": [
    "train_df.info()"
   ]
  },
  {
   "cell_type": "code",
   "execution_count": 434,
   "id": "222a271d",
   "metadata": {},
   "outputs": [],
   "source": [
    "feature_names = ['DistrictId', 'Rooms', 'Square', 'LifeSquare', 'KitchenSquare', 'Floor',\n",
    "       'HouseFloor', 'HouseYear', 'Ecology_1', 'Ecology_2', 'Ecology_3',\n",
    "       'Social_1', 'Social_2', 'Social_3', 'Healthcare_1', 'Helthcare_2', 'Shops_1',\n",
    "       'Shops_2', 'DistrictPricePerSquare', 'age_binary_cat',\n",
    "       'floor_cat']\n",
    "target_name = 'Price'\n",
    "train_df = train_df[feature_names + [target_name]]"
   ]
  },
  {
   "cell_type": "code",
   "execution_count": 435,
   "id": "6d1ff329",
   "metadata": {},
   "outputs": [],
   "source": [
    "features_to_stand = train_df[feature_names].select_dtypes(include=['float64', 'int64']).columns.tolist()"
   ]
  },
  {
   "cell_type": "code",
   "execution_count": 436,
   "id": "a247d1ea",
   "metadata": {},
   "outputs": [],
   "source": [
    "scaler = RobustScaler()\n",
    "train_df[features_to_stand] = pd.DataFrame(scaler.fit_transform(train_df[features_to_stand]), columns=features_to_stand)\n",
    "test_df[features_to_stand] = pd.DataFrame(scaler.transform(test_df[features_to_stand]), columns=features_to_stand)"
   ]
  },
  {
   "cell_type": "markdown",
   "id": "88867ad8",
   "metadata": {},
   "source": [
    "### Dataset split"
   ]
  },
  {
   "cell_type": "code",
   "execution_count": 437,
   "id": "b03478d4",
   "metadata": {},
   "outputs": [],
   "source": [
    "X = train_df[feature_names]\n",
    "y = train_df[target_name]\n",
    "X_train, X_valid, y_train, y_valid = train_test_split(X, y, shuffle=True, test_size=0.25, random_state = 42)"
   ]
  },
  {
   "cell_type": "markdown",
   "id": "b3b28d00",
   "metadata": {},
   "source": [
    "#### Linear Regression"
   ]
  },
  {
   "cell_type": "code",
   "execution_count": 438,
   "id": "6769075a",
   "metadata": {},
   "outputs": [
    {
     "name": "stdout",
     "output_type": "stream",
     "text": [
      "R2 on training dataset: 0.671292169389534\n",
      "R2 on testing dataset: 0.6685958324103412\n"
     ]
    }
   ],
   "source": [
    "\"\"\"\n",
    "lr_model = LinearRegression()\n",
    "lr_model.fit(X_train, y_train)\n",
    "train_pred = lr_model.predict(X_train)\n",
    "valid_pred = lr_model.predict(X_valid)\n",
    "print(f'R2 on training dataset: {r2(y_train, train_pred)}')\n",
    "print(f'R2 on testing dataset: {r2(y_valid, valid_pred)}')\"\"\""
   ]
  },
  {
   "cell_type": "markdown",
   "id": "4c71e66d",
   "metadata": {},
   "source": [
    "#### Random Forest Regressor"
   ]
  },
  {
   "cell_type": "code",
   "execution_count": 439,
   "id": "e98e5cc1",
   "metadata": {},
   "outputs": [
    {
     "data": {
      "text/plain": [
       "\"\\nparameters = {\\n    'n_estimators': [100, 150, 200, 250],\\n    'max_features': np.arange(5, 9),\\n    'max_depth': np.arange(5, 10),\\n    'min_samples_leaf': [10, 20]}\\n\\nclf = GridSearchCV(\\n    estimator=RandomForestRegressor(),\\n    param_grid=parameters,\\n    scoring='r2',\\n    cv=KFold(n_splits=5,  \\n             random_state=21, \\n             shuffle=True))\\nclf.fit(X_train, y_train)\\nclf.best_params_\""
      ]
     },
     "execution_count": 439,
     "metadata": {},
     "output_type": "execute_result"
    }
   ],
   "source": [
    "\"\"\"\n",
    "parameters = {\n",
    "    'n_estimators': [100, 150, 200, 250],\n",
    "    'max_features': np.arange(5, 9),\n",
    "    'max_depth': np.arange(5, 10),\n",
    "    'min_samples_leaf': [10, 20]}\n",
    "\n",
    "clf = GridSearchCV(\n",
    "    estimator=RandomForestRegressor(),\n",
    "    param_grid=parameters,\n",
    "    scoring='r2',\n",
    "    cv=KFold(n_splits=5,  \n",
    "             random_state=21, \n",
    "             shuffle=True))\n",
    "clf.fit(X_train, y_train)\n",
    "clf.best_params_\"\"\""
   ]
  },
  {
   "cell_type": "code",
   "execution_count": 440,
   "id": "6a4db51c",
   "metadata": {},
   "outputs": [
    {
     "name": "stdout",
     "output_type": "stream",
     "text": [
      "R2 on training dataset: 0.7992677922890886\n",
      "R2 on testing dataset: 0.7362234910314487\n"
     ]
    }
   ],
   "source": [
    "\"\"\"\n",
    "rf_model = RandomForestRegressor(max_depth=9, max_features=8, min_samples_leaf=10, n_estimators=100, random_state=42)\n",
    "rf_model.fit(X_train, y_train)\n",
    "train_pred = rf_model.predict(X_train)\n",
    "valid_pred = rf_model.predict(X_valid)\n",
    "print(f'R2 on training dataset: {r2(y_train, train_pred)}')\n",
    "print(f'R2 on testing dataset: {r2(y_valid, valid_pred)}')\"\"\""
   ]
  },
  {
   "cell_type": "markdown",
   "id": "1970fb93",
   "metadata": {},
   "source": [
    "#### Gradient Boosting Regressor"
   ]
  },
  {
   "cell_type": "code",
   "execution_count": 441,
   "id": "3d4aae81",
   "metadata": {},
   "outputs": [
    {
     "data": {
      "text/plain": [
       "\"\\nparameters = {\\n    'n_estimators': [50, 100, 150, 200],\\n    'max_features': np.arange(5, 9),\\n    'max_depth': np.arange(3, 9),}\\n\\nclf = GridSearchCV(\\n    estimator=GradientBoostingRegressor(),\\n    param_grid=parameters,\\n    scoring='r2',\\n    cv=KFold(n_splits=5,  \\n             random_state=21, \\n             shuffle=True))\\nclf.fit(X_train, y_train)\\nclf.best_params_\""
      ]
     },
     "execution_count": 441,
     "metadata": {},
     "output_type": "execute_result"
    }
   ],
   "source": [
    "\"\"\"\n",
    "parameters = {\n",
    "    'n_estimators': [50, 100, 150, 200],\n",
    "    'max_features': np.arange(5, 9),\n",
    "    'max_depth': np.arange(3, 9),}\n",
    "\n",
    "clf = GridSearchCV(\n",
    "    estimator=GradientBoostingRegressor(),\n",
    "    param_grid=parameters,\n",
    "    scoring='r2',\n",
    "    cv=KFold(n_splits=5,  \n",
    "             random_state=21, \n",
    "             shuffle=True))\n",
    "clf.fit(X_train, y_train)\n",
    "clf.best_params_\"\"\""
   ]
  },
  {
   "cell_type": "code",
   "execution_count": 453,
   "id": "a54b8042",
   "metadata": {},
   "outputs": [
    {
     "name": "stdout",
     "output_type": "stream",
     "text": [
      "R2 on training dataset: 0.8746565362248708\n",
      "R2 on testing dataset: 0.7584166810115828\n"
     ]
    }
   ],
   "source": [
    "gb_model = GradientBoostingRegressor(min_samples_leaf=50, \n",
    "                                     random_state=42, \n",
    "                                     max_depth=6, \n",
    "                                     max_features='sqrt', \n",
    "                                     n_estimators=1250, \n",
    "                                     learning_rate=0.025)\n",
    "gb_model.fit(X_train, y_train)\n",
    "train_pred = gb_model.predict(X_train)\n",
    "valid_pred = gb_model.predict(X_valid)\n",
    "print(f'R2 on training dataset: {r2(y_train, train_pred)}')\n",
    "print(f'R2 on testing dataset: {r2(y_valid, valid_pred)}')"
   ]
  },
  {
   "cell_type": "markdown",
   "id": "eae9be24",
   "metadata": {},
   "source": [
    "### Feature importances"
   ]
  },
  {
   "cell_type": "code",
   "execution_count": 443,
   "id": "06f8700b",
   "metadata": {},
   "outputs": [
    {
     "data": {
      "text/html": [
       "<div>\n",
       "<style scoped>\n",
       "    .dataframe tbody tr th:only-of-type {\n",
       "        vertical-align: middle;\n",
       "    }\n",
       "\n",
       "    .dataframe tbody tr th {\n",
       "        vertical-align: top;\n",
       "    }\n",
       "\n",
       "    .dataframe thead th {\n",
       "        text-align: right;\n",
       "    }\n",
       "</style>\n",
       "<table border=\"1\" class=\"dataframe\">\n",
       "  <thead>\n",
       "    <tr style=\"text-align: right;\">\n",
       "      <th></th>\n",
       "      <th>feature_name</th>\n",
       "      <th>importance</th>\n",
       "    </tr>\n",
       "  </thead>\n",
       "  <tbody>\n",
       "    <tr>\n",
       "      <th>2</th>\n",
       "      <td>Square</td>\n",
       "      <td>0.271168</td>\n",
       "    </tr>\n",
       "    <tr>\n",
       "      <th>18</th>\n",
       "      <td>DistrictPricePerSquare</td>\n",
       "      <td>0.223034</td>\n",
       "    </tr>\n",
       "    <tr>\n",
       "      <th>3</th>\n",
       "      <td>LifeSquare</td>\n",
       "      <td>0.109064</td>\n",
       "    </tr>\n",
       "    <tr>\n",
       "      <th>11</th>\n",
       "      <td>Social_1</td>\n",
       "      <td>0.077108</td>\n",
       "    </tr>\n",
       "    <tr>\n",
       "      <th>1</th>\n",
       "      <td>Rooms</td>\n",
       "      <td>0.074364</td>\n",
       "    </tr>\n",
       "    <tr>\n",
       "      <th>4</th>\n",
       "      <td>KitchenSquare</td>\n",
       "      <td>0.051806</td>\n",
       "    </tr>\n",
       "    <tr>\n",
       "      <th>12</th>\n",
       "      <td>Social_2</td>\n",
       "      <td>0.033349</td>\n",
       "    </tr>\n",
       "    <tr>\n",
       "      <th>13</th>\n",
       "      <td>Social_3</td>\n",
       "      <td>0.028838</td>\n",
       "    </tr>\n",
       "    <tr>\n",
       "      <th>7</th>\n",
       "      <td>HouseYear</td>\n",
       "      <td>0.023828</td>\n",
       "    </tr>\n",
       "    <tr>\n",
       "      <th>0</th>\n",
       "      <td>DistrictId</td>\n",
       "      <td>0.020063</td>\n",
       "    </tr>\n",
       "    <tr>\n",
       "      <th>14</th>\n",
       "      <td>Healthcare_1</td>\n",
       "      <td>0.019344</td>\n",
       "    </tr>\n",
       "    <tr>\n",
       "      <th>8</th>\n",
       "      <td>Ecology_1</td>\n",
       "      <td>0.018235</td>\n",
       "    </tr>\n",
       "    <tr>\n",
       "      <th>6</th>\n",
       "      <td>HouseFloor</td>\n",
       "      <td>0.014040</td>\n",
       "    </tr>\n",
       "    <tr>\n",
       "      <th>16</th>\n",
       "      <td>Shops_1</td>\n",
       "      <td>0.010676</td>\n",
       "    </tr>\n",
       "    <tr>\n",
       "      <th>15</th>\n",
       "      <td>Helthcare_2</td>\n",
       "      <td>0.009368</td>\n",
       "    </tr>\n",
       "    <tr>\n",
       "      <th>5</th>\n",
       "      <td>Floor</td>\n",
       "      <td>0.008944</td>\n",
       "    </tr>\n",
       "    <tr>\n",
       "      <th>19</th>\n",
       "      <td>age_binary_cat</td>\n",
       "      <td>0.004551</td>\n",
       "    </tr>\n",
       "    <tr>\n",
       "      <th>20</th>\n",
       "      <td>floor_cat</td>\n",
       "      <td>0.001737</td>\n",
       "    </tr>\n",
       "    <tr>\n",
       "      <th>10</th>\n",
       "      <td>Ecology_3</td>\n",
       "      <td>0.000299</td>\n",
       "    </tr>\n",
       "    <tr>\n",
       "      <th>17</th>\n",
       "      <td>Shops_2</td>\n",
       "      <td>0.000185</td>\n",
       "    </tr>\n",
       "    <tr>\n",
       "      <th>9</th>\n",
       "      <td>Ecology_2</td>\n",
       "      <td>0.000000</td>\n",
       "    </tr>\n",
       "  </tbody>\n",
       "</table>\n",
       "</div>"
      ],
      "text/plain": [
       "              feature_name  importance\n",
       "2                   Square    0.271168\n",
       "18  DistrictPricePerSquare    0.223034\n",
       "3               LifeSquare    0.109064\n",
       "11                Social_1    0.077108\n",
       "1                    Rooms    0.074364\n",
       "4            KitchenSquare    0.051806\n",
       "12                Social_2    0.033349\n",
       "13                Social_3    0.028838\n",
       "7                HouseYear    0.023828\n",
       "0               DistrictId    0.020063\n",
       "14            Healthcare_1    0.019344\n",
       "8                Ecology_1    0.018235\n",
       "6               HouseFloor    0.014040\n",
       "16                 Shops_1    0.010676\n",
       "15             Helthcare_2    0.009368\n",
       "5                    Floor    0.008944\n",
       "19          age_binary_cat    0.004551\n",
       "20               floor_cat    0.001737\n",
       "10               Ecology_3    0.000299\n",
       "17                 Shops_2    0.000185\n",
       "9                Ecology_2    0.000000"
      ]
     },
     "execution_count": 443,
     "metadata": {},
     "output_type": "execute_result"
    }
   ],
   "source": [
    "feature_importances = pd.DataFrame(zip(X_train.columns, gb_model.feature_importances_),\n",
    "                                   columns=['feature_name', 'importance'])\n",
    "feature_importances.sort_values(by='importance', ascending=False)"
   ]
  },
  {
   "cell_type": "markdown",
   "id": "0401b699",
   "metadata": {},
   "source": [
    "### Prediction"
   ]
  },
  {
   "cell_type": "code",
   "execution_count": 444,
   "id": "ac326cee",
   "metadata": {},
   "outputs": [],
   "source": [
    "predictions = gb_model.predict(test_df)"
   ]
  },
  {
   "cell_type": "code",
   "execution_count": 445,
   "id": "fb00ba0e",
   "metadata": {},
   "outputs": [
    {
     "data": {
      "text/html": [
       "<div>\n",
       "<style scoped>\n",
       "    .dataframe tbody tr th:only-of-type {\n",
       "        vertical-align: middle;\n",
       "    }\n",
       "\n",
       "    .dataframe tbody tr th {\n",
       "        vertical-align: top;\n",
       "    }\n",
       "\n",
       "    .dataframe thead th {\n",
       "        text-align: right;\n",
       "    }\n",
       "</style>\n",
       "<table border=\"1\" class=\"dataframe\">\n",
       "  <thead>\n",
       "    <tr style=\"text-align: right;\">\n",
       "      <th></th>\n",
       "      <th>Id</th>\n",
       "      <th>Price</th>\n",
       "    </tr>\n",
       "  </thead>\n",
       "  <tbody>\n",
       "    <tr>\n",
       "      <th>0</th>\n",
       "      <td>4567</td>\n",
       "      <td>200000.0</td>\n",
       "    </tr>\n",
       "    <tr>\n",
       "      <th>1</th>\n",
       "      <td>5925</td>\n",
       "      <td>200000.0</td>\n",
       "    </tr>\n",
       "    <tr>\n",
       "      <th>2</th>\n",
       "      <td>960</td>\n",
       "      <td>200000.0</td>\n",
       "    </tr>\n",
       "    <tr>\n",
       "      <th>3</th>\n",
       "      <td>3848</td>\n",
       "      <td>200000.0</td>\n",
       "    </tr>\n",
       "    <tr>\n",
       "      <th>4</th>\n",
       "      <td>746</td>\n",
       "      <td>200000.0</td>\n",
       "    </tr>\n",
       "  </tbody>\n",
       "</table>\n",
       "</div>"
      ],
      "text/plain": [
       "     Id     Price\n",
       "0  4567  200000.0\n",
       "1  5925  200000.0\n",
       "2   960  200000.0\n",
       "3  3848  200000.0\n",
       "4   746  200000.0"
      ]
     },
     "execution_count": 445,
     "metadata": {},
     "output_type": "execute_result"
    }
   ],
   "source": [
    "submission = pd.read_csv(submission_path, sep=',')\n",
    "submission.head()"
   ]
  },
  {
   "cell_type": "code",
   "execution_count": 446,
   "id": "db6593b0",
   "metadata": {},
   "outputs": [],
   "source": [
    "submission['Price'] = predictions"
   ]
  },
  {
   "cell_type": "code",
   "execution_count": 447,
   "id": "84fd0279",
   "metadata": {},
   "outputs": [
    {
     "data": {
      "text/html": [
       "<div>\n",
       "<style scoped>\n",
       "    .dataframe tbody tr th:only-of-type {\n",
       "        vertical-align: middle;\n",
       "    }\n",
       "\n",
       "    .dataframe tbody tr th {\n",
       "        vertical-align: top;\n",
       "    }\n",
       "\n",
       "    .dataframe thead th {\n",
       "        text-align: right;\n",
       "    }\n",
       "</style>\n",
       "<table border=\"1\" class=\"dataframe\">\n",
       "  <thead>\n",
       "    <tr style=\"text-align: right;\">\n",
       "      <th></th>\n",
       "      <th>Id</th>\n",
       "      <th>Price</th>\n",
       "    </tr>\n",
       "  </thead>\n",
       "  <tbody>\n",
       "    <tr>\n",
       "      <th>0</th>\n",
       "      <td>4567</td>\n",
       "      <td>159003.349974</td>\n",
       "    </tr>\n",
       "    <tr>\n",
       "      <th>1</th>\n",
       "      <td>5925</td>\n",
       "      <td>122747.592249</td>\n",
       "    </tr>\n",
       "    <tr>\n",
       "      <th>2</th>\n",
       "      <td>960</td>\n",
       "      <td>145379.655258</td>\n",
       "    </tr>\n",
       "    <tr>\n",
       "      <th>3</th>\n",
       "      <td>3848</td>\n",
       "      <td>108418.837070</td>\n",
       "    </tr>\n",
       "    <tr>\n",
       "      <th>4</th>\n",
       "      <td>746</td>\n",
       "      <td>193235.907513</td>\n",
       "    </tr>\n",
       "  </tbody>\n",
       "</table>\n",
       "</div>"
      ],
      "text/plain": [
       "     Id          Price\n",
       "0  4567  159003.349974\n",
       "1  5925  122747.592249\n",
       "2   960  145379.655258\n",
       "3  3848  108418.837070\n",
       "4   746  193235.907513"
      ]
     },
     "execution_count": 447,
     "metadata": {},
     "output_type": "execute_result"
    }
   ],
   "source": [
    "submission.head()"
   ]
  },
  {
   "cell_type": "code",
   "execution_count": 448,
   "id": "1d0ede6b",
   "metadata": {},
   "outputs": [],
   "source": [
    "submission.to_csv('gb_submit.csv', index=False)"
   ]
  }
 ],
 "metadata": {
  "kernelspec": {
   "display_name": "Python 3 (ipykernel)",
   "language": "python",
   "name": "python3"
  },
  "language_info": {
   "codemirror_mode": {
    "name": "ipython",
    "version": 3
   },
   "file_extension": ".py",
   "mimetype": "text/x-python",
   "name": "python",
   "nbconvert_exporter": "python",
   "pygments_lexer": "ipython3",
   "version": "3.9.7"
  }
 },
 "nbformat": 4,
 "nbformat_minor": 5
}
